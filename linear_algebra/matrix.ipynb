{
 "cells": [
  {
   "cell_type": "code",
   "execution_count": 1,
   "id": "6a47166c-1e41-4026-94da-19ce3f354b44",
   "metadata": {},
   "outputs": [],
   "source": [
    "import numpy as np"
   ]
  },
  {
   "cell_type": "markdown",
   "id": "f7607f62-c28c-4e46-bb6e-d7965032be97",
   "metadata": {},
   "source": [
    "# Задание 1"
   ]
  },
  {
   "cell_type": "code",
   "execution_count": 2,
   "id": "ada5b7b9-d030-40aa-a150-93a076a40637",
   "metadata": {},
   "outputs": [],
   "source": [
    "matrix_a = np.array([[1, 2, 3],\n",
    "                     [4, 5, 6],\n",
    "                     [7, 8, 9]])\n",
    "\n",
    "identity_matrix = np.eye(3)"
   ]
  },
  {
   "cell_type": "code",
   "execution_count": 3,
   "id": "d3f7b1ee-565b-4b27-8ce0-1722d08d1a8c",
   "metadata": {},
   "outputs": [],
   "source": [
    "result_matrix = matrix_a + identity_matrix"
   ]
  },
  {
   "cell_type": "code",
   "execution_count": 4,
   "id": "866540a8-00fb-45da-bd24-3e6e76c20bc1",
   "metadata": {},
   "outputs": [],
   "source": [
    "vector = np.array([1, 2, 3])\n",
    "product_result = np.dot(result_matrix, vector)"
   ]
  },
  {
   "cell_type": "code",
   "execution_count": 5,
   "id": "9307886d-873f-4ada-9e64-f6fcb90b9314",
   "metadata": {},
   "outputs": [],
   "source": [
    "transposed_matrix = result_matrix.T"
   ]
  },
  {
   "cell_type": "code",
   "execution_count": 6,
   "id": "9eb49309-93bd-424c-9218-969e5341ece4",
   "metadata": {},
   "outputs": [],
   "source": [
    "#Считаю обратную матрицу к полученной в результате прибавления матрице\n",
    "inverse_matrix = np.linalg.inv(result_matrix)"
   ]
  },
  {
   "cell_type": "code",
   "execution_count": 7,
   "id": "51ada282-a73d-408a-8d76-667ef097a450",
   "metadata": {},
   "outputs": [
    {
     "name": "stdout",
     "output_type": "stream",
     "text": [
      "Исходная матрица (1-9):\n",
      " [[1 2 3]\n",
      " [4 5 6]\n",
      " [7 8 9]]\n",
      "\n",
      "Матрица с единицами на диагонали:\n",
      " [[1. 0. 0.]\n",
      " [0. 1. 0.]\n",
      " [0. 0. 1.]]\n",
      "\n",
      "Результирующая матрица после прибавления:\n",
      " [[ 2.  2.  3.]\n",
      " [ 4.  6.  6.]\n",
      " [ 7.  8. 10.]]\n",
      "\n",
      "Результат умножения на вектор (1, 2, 3):\n",
      " [15. 34. 53.]\n",
      "\n",
      "Транспонированная матрица:\n",
      " [[ 2.  4.  7.]\n",
      " [ 2.  6.  8.]\n",
      " [ 3.  6. 10.]]\n",
      "\n",
      "Обратная матрица:\n",
      " [[-6.  -2.   3. ]\n",
      " [-1.   0.5  0. ]\n",
      " [ 5.   1.  -2. ]]\n"
     ]
    }
   ],
   "source": [
    "print(\"Исходная матрица (1-9):\\n\", matrix_a)\n",
    "print(\"\\nМатрица с единицами на диагонали:\\n\", identity_matrix)\n",
    "print(\"\\nРезультирующая матрица после прибавления:\\n\", result_matrix)\n",
    "print(\"\\nРезультат умножения на вектор (1, 2, 3):\\n\", product_result)\n",
    "print(\"\\nТранспонированная матрица:\\n\", transposed_matrix)\n",
    "print(\"\\nОбратная матрица:\\n\", inverse_matrix)"
   ]
  },
  {
   "cell_type": "markdown",
   "id": "d174f76f-cf58-4ee1-a58d-f9898e10908f",
   "metadata": {},
   "source": [
    "# Задние 2"
   ]
  },
  {
   "cell_type": "code",
   "execution_count": 8,
   "id": "d1ba72a0-09f7-428a-9d23-14bb52481af6",
   "metadata": {},
   "outputs": [],
   "source": [
    "m = np.array([[2, 2],\n",
    "              [1, 3]])"
   ]
  },
  {
   "cell_type": "code",
   "execution_count": 9,
   "id": "ea3a36f8-b82c-4e44-a3d4-467bbca1ad75",
   "metadata": {},
   "outputs": [],
   "source": [
    "eigenvalues, eigenvectors = np.linalg.eig(m)"
   ]
  },
  {
   "cell_type": "code",
   "execution_count": 10,
   "id": "fbbc2267-aa31-4fbe-9be7-0ee4c761247a",
   "metadata": {},
   "outputs": [
    {
     "name": "stdout",
     "output_type": "stream",
     "text": [
      "Матрица:\n",
      " [[2 2]\n",
      " [1 3]]\n",
      "\n",
      "Собственные значения:\n",
      " [1. 4.]\n",
      "\n",
      "Собственные векторы:\n",
      " [[-0.89442719 -0.70710678]\n",
      " [ 0.4472136  -0.70710678]]\n"
     ]
    }
   ],
   "source": [
    "print(\"Матрица:\\n\", m)\n",
    "print(\"\\nСобственные значения:\\n\", eigenvalues)\n",
    "print(\"\\nСобственные векторы:\\n\", eigenvectors)"
   ]
  },
  {
   "cell_type": "markdown",
   "id": "462d87bd-3e8f-4d5d-ae7e-067b5545a432",
   "metadata": {},
   "source": [
    "# Задание 3"
   ]
  },
  {
   "cell_type": "code",
   "execution_count": 11,
   "id": "ffd2f127-e9f4-4a94-adc8-8ebc7acda5b1",
   "metadata": {},
   "outputs": [],
   "source": [
    "matrix = np.array([[1, 1],\n",
    "                   [1, 2]])"
   ]
  },
  {
   "cell_type": "code",
   "execution_count": 12,
   "id": "d714c8a1-42a1-4f8c-99f4-e9063887cc85",
   "metadata": {},
   "outputs": [],
   "source": [
    "determinant = np.linalg.det(matrix)"
   ]
  },
  {
   "cell_type": "code",
   "execution_count": 13,
   "id": "afc4ca44-ea1c-424f-8d3f-1b263843d9c9",
   "metadata": {},
   "outputs": [
    {
     "name": "stdout",
     "output_type": "stream",
     "text": [
      "Матрица:\n",
      " [[1 1]\n",
      " [1 2]]\n",
      "\n",
      "Определитель матрицы: 1.0\n"
     ]
    }
   ],
   "source": [
    "print(\"Матрица:\\n\", matrix)\n",
    "print(\"\\nОпределитель матрицы:\", determinant)"
   ]
  },
  {
   "cell_type": "code",
   "execution_count": null,
   "id": "f54e39b2-21e9-459d-a527-9391cffc2321",
   "metadata": {},
   "outputs": [],
   "source": []
  }
 ],
 "metadata": {
  "kernelspec": {
   "display_name": "Python 3 (ipykernel)",
   "language": "python",
   "name": "python3"
  },
  "language_info": {
   "codemirror_mode": {
    "name": "ipython",
    "version": 3
   },
   "file_extension": ".py",
   "mimetype": "text/x-python",
   "name": "python",
   "nbconvert_exporter": "python",
   "pygments_lexer": "ipython3",
   "version": "3.12.4"
  }
 },
 "nbformat": 4,
 "nbformat_minor": 5
}
