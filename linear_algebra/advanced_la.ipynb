{
 "cells": [
  {
   "cell_type": "code",
   "execution_count": null,
   "id": "5fe3f417-4883-492c-a70c-717fa2fde7a0",
   "metadata": {},
   "outputs": [],
   "source": [
    "import numpy as np\n",
    "import matplotlib.pyplot as plt\n",
    "\n",
    "A = [\n",
    "    [-100, -100, 1],\n",
    "    [-100, 100, 1],\n",
    "    [100, 100, 1],\n",
    "    [0, 0, 1],\n",
    "    [100, -100, 1],\n",
    "    [-100, -100, 1]\n",
    "]\n",
    "\n",
    "A = np.array(A)\n",
    "\n",
    "\n",
    "\n",
    "# 1. \n",
    "\n",
    "# 2. Повернуть на 130 градусов\n",
    "\n",
    "\n",
    "# 3. Отразить объект относительно прямой y=x\n",
    "\n",
    "\n",
    "# Отображаем все объекты\n"
   ]
  },
  {
   "cell_type": "code",
   "execution_count": null,
   "id": "4e20ba61-2557-4da8-91b3-d580eee7804b",
   "metadata": {},
   "outputs": [],
   "source": [
    "# Функция для отображения объекта\n",
    "def plot_object(points, title):\n",
    "    x = points[:, 0]\n",
    "    y = points[:, 1]\n",
    "    plt.plot(x, y, label=title)\n",
    "    plt.ylim([-200, 200])\n",
    "    plt.xlim([-200, 200])\n",
    "    plt.axhline(0, color='black',linewidth=0.5, ls='--')\n",
    "    plt.axvline(0, color='black',linewidth=0.5, ls='--')\n",
    "    plt.grid()\n",
    "    plt.legend()"
   ]
  },
  {
   "cell_type": "code",
   "execution_count": null,
   "id": "48927b94-4469-4bc3-9ff2-8b91d496d4c1",
   "metadata": {},
   "outputs": [],
   "source": [
    "# Уменьшаю объект в два раза\n",
    "scale_matrix = np.array([[0.5, 0, 0],\n",
    "                          [0, 0.5, 0],\n",
    "                          [0, 0, 1]])\n",
    "scaled_A = A @ scale_matrix\n",
    "plot_object(scaled_A, 'Уменьшенный объект')"
   ]
  },
  {
   "cell_type": "code",
   "execution_count": null,
   "id": "39f01541-c846-4bba-b63b-0e88717374de",
   "metadata": {},
   "outputs": [],
   "source": [
    "# Транспонирование\n",
    "theta = np.radians(130)  # Преобразуем градусы в радианы\n",
    "rotation_matrix = np.array([[np.cos(theta), -np.sin(theta), 0],\n",
    "                             [np.sin(theta), np.cos(theta), 0],\n",
    "                             [0, 0, 1]])\n",
    "rotated_A = scaled_A @ rotation_matrix\n",
    "plot_object(rotated_A, 'Повернутый объект')"
   ]
  },
  {
   "cell_type": "code",
   "execution_count": null,
   "id": "500cd0db-f062-4363-a0d5-11f72d19b3a8",
   "metadata": {},
   "outputs": [],
   "source": [
    "reflection_matrix = np.array([[0, 1, 0],\n",
    "                               [1, 0, 0],\n",
    "                               [0, 0, 1]])\n",
    "reflected_A = rotated_A @ reflection_matrix\n",
    "plot_object(reflected_A, 'Отраженный объект')"
   ]
  },
  {
   "cell_type": "code",
   "execution_count": null,
   "id": "03f278d2-ffd7-461f-9389-e4c8dc08ea9b",
   "metadata": {},
   "outputs": [],
   "source": [
    "plt.title('Линейные преобразования в 2D пространстве')\n",
    "plt.show()"
   ]
  },
  {
   "cell_type": "code",
   "execution_count": null,
   "id": "d755555a-106c-4844-912a-ff7452eb376a",
   "metadata": {},
   "outputs": [],
   "source": []
  },
  {
   "cell_type": "code",
   "execution_count": null,
   "id": "011ab028-8b6c-41a3-a068-5947585bbd70",
   "metadata": {},
   "outputs": [],
   "source": []
  },
  {
   "cell_type": "code",
   "execution_count": null,
   "id": "84f5c556-a948-4f7a-b39c-389b3e4daaff",
   "metadata": {},
   "outputs": [],
   "source": []
  },
  {
   "cell_type": "code",
   "execution_count": null,
   "id": "9ffd2634-e6e3-4113-9af8-c0e00fb95c86",
   "metadata": {},
   "outputs": [],
   "source": []
  },
  {
   "cell_type": "code",
   "execution_count": null,
   "id": "468c0b4d-fc1a-4a09-b0b6-89c0b0560f9e",
   "metadata": {},
   "outputs": [],
   "source": []
  },
  {
   "cell_type": "code",
   "execution_count": null,
   "id": "bc2d081e-6972-4020-8d28-637baf459b7c",
   "metadata": {},
   "outputs": [],
   "source": []
  }
 ],
 "metadata": {
  "kernelspec": {
   "display_name": "Python 3 (ipykernel)",
   "language": "python",
   "name": "python3"
  },
  "language_info": {
   "codemirror_mode": {
    "name": "ipython",
    "version": 3
   },
   "file_extension": ".py",
   "mimetype": "text/x-python",
   "name": "python",
   "nbconvert_exporter": "python",
   "pygments_lexer": "ipython3",
   "version": "3.12.4"
  }
 },
 "nbformat": 4,
 "nbformat_minor": 5
}
