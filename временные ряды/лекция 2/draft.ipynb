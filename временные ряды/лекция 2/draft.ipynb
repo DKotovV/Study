{
 "cells": [
  {
   "cell_type": "code",
   "execution_count": 1,
   "id": "d74ac5e5-f941-442b-8363-d8db7096dbb0",
   "metadata": {},
   "outputs": [
    {
     "ename": "ModuleNotFoundError",
     "evalue": "No module named 'sklearn'",
     "output_type": "error",
     "traceback": [
      "\u001b[0;31m---------------------------------------------------------------------------\u001b[0m",
      "\u001b[0;31mModuleNotFoundError\u001b[0m                       Traceback (most recent call last)",
      "Cell \u001b[0;32mIn[1], line 6\u001b[0m\n\u001b[1;32m      4\u001b[0m \u001b[38;5;28;01mfrom\u001b[39;00m \u001b[38;5;21;01mstatsmodels\u001b[39;00m\u001b[38;5;21;01m.\u001b[39;00m\u001b[38;5;21;01mtsa\u001b[39;00m\u001b[38;5;21;01m.\u001b[39;00m\u001b[38;5;21;01marima\u001b[39;00m\u001b[38;5;21;01m.\u001b[39;00m\u001b[38;5;21;01mmodel\u001b[39;00m \u001b[38;5;28;01mimport\u001b[39;00m ARIMA\n\u001b[1;32m      5\u001b[0m \u001b[38;5;28;01mfrom\u001b[39;00m \u001b[38;5;21;01mstatsmodels\u001b[39;00m\u001b[38;5;21;01m.\u001b[39;00m\u001b[38;5;21;01mtsa\u001b[39;00m\u001b[38;5;21;01m.\u001b[39;00m\u001b[38;5;21;01mstattools\u001b[39;00m \u001b[38;5;28;01mimport\u001b[39;00m adfuller\n\u001b[0;32m----> 6\u001b[0m \u001b[38;5;28;01mfrom\u001b[39;00m \u001b[38;5;21;01msklearn\u001b[39;00m\u001b[38;5;21;01m.\u001b[39;00m\u001b[38;5;21;01mmetrics\u001b[39;00m \u001b[38;5;28;01mimport\u001b[39;00m mean_squared_error\n\u001b[1;32m      7\u001b[0m \u001b[38;5;28;01mimport\u001b[39;00m \u001b[38;5;21;01mwarnings\u001b[39;00m\n\u001b[1;32m      8\u001b[0m warnings\u001b[38;5;241m.\u001b[39mfilterwarnings(\u001b[38;5;124m\"\u001b[39m\u001b[38;5;124mignore\u001b[39m\u001b[38;5;124m\"\u001b[39m)\n",
      "\u001b[0;31mModuleNotFoundError\u001b[0m: No module named 'sklearn'"
     ]
    }
   ],
   "source": [
    "import pandas as pd\n",
    "import numpy as np\n",
    "import matplotlib.pyplot as plt\n",
    "from statsmodels.tsa.arima.model import ARIMA\n",
    "from statsmodels.tsa.stattools import adfuller\n",
    "from sklearn.metrics import mean_squared_error\n",
    "import warnings\n",
    "warnings.filterwarnings(\"ignore\")"
   ]
  },
  {
   "cell_type": "code",
   "execution_count": null,
   "id": "8d65b52c-a469-434a-b69e-bba3550ef751",
   "metadata": {},
   "outputs": [],
   "source": [
    "# Загрузка данных\n",
    "births_df = pd.read_csv('data/daily-total-female-births-in-cal.csv')\n",
    "births_df['Date'] = pd.to_datetime(births_df['Date'])\n",
    "births_df.set_index('Date', inplace=True)\n",
    "\n",
    "sales_df = pd.read_csv('data/monthly-sales-of-company-x-jan-6.csv')\n",
    "sales_df['Month'] = pd.to_datetime(sales_df['Month'])\n",
    "sales_df.set_index('Month', inplace=True)"
   ]
  },
  {
   "cell_type": "code",
   "execution_count": null,
   "id": "226b7212-5715-459b-9727-115f6f99bae3",
   "metadata": {},
   "outputs": [],
   "source": [
    "# ADF-тест\n",
    "def check_stationarity(series, name=\"Ряд\"):\n",
    "    result = adfuller(series)\n",
    "    print(f\"{name}: p-value = {result[1]:.5f}\")\n",
    "    return result[1] < 0.05\n",
    "\n",
    "print(\"ADF Test Results:\")\n",
    "births_stationary = check_stationarity(births_df['Count'], \"Ряд рождаемости\")\n",
    "sales_stationary = check_stationarity(sales_df['Count'], \"Ряд продаж\")\n"
   ]
  },
  {
   "cell_type": "code",
   "execution_count": null,
   "id": "8bacc604-257e-43c9-af57-7a227ef82c6d",
   "metadata": {},
   "outputs": [],
   "source": [
    "# Визуализация\n",
    "fig, ax = plt.subplots(2, 1, figsize=(12, 6), sharex=False)\n",
    "births_df['Count'].plot(ax=ax[0], title='Стационарный ряд: рождаемость')\n",
    "sales_df['Count'].plot(ax=ax[1], title='Нестационарный ряд: продажи')\n",
    "plt.tight_layout()\n",
    "plt.show()"
   ]
  },
  {
   "cell_type": "code",
   "execution_count": null,
   "id": "08cb78a5-da04-400b-907c-800f70e89e97",
   "metadata": {},
   "outputs": [],
   "source": [
    "# MA модель\n",
    "def fit_ma_model(series, q=1, title=\"MA модель\"):\n",
    "    model = ARIMA(series, order=(0, 0, q)).fit()\n",
    "    forecast = model.predict()\n",
    "    plt.figure(figsize=(12, 4))\n",
    "    plt.plot(series, label='Оригинал')\n",
    "    plt.plot(forecast, label=f'MA({q}) Предсказание', linestyle='--')\n",
    "    plt.title(title)\n",
    "    plt.legend()\n",
    "    plt.show()\n",
    "    mse = mean_squared_error(series[q:], forecast[q:])\n",
    "    print(f\"MSE для MA({q}) модели: {mse:.2f}\")\n",
    "    return model"
   ]
  },
  {
   "cell_type": "code",
   "execution_count": null,
   "id": "67304f6e-8112-4ea0-bcf4-86a7962c966d",
   "metadata": {},
   "outputs": [],
   "source": [
    "# Применение моделей\n",
    "print(\"Стационарный ряд:\")\n",
    "ma_births_model = fit_ma_model(births_df['Count'], q=3, title=\"MA модель для рождаемости\")\n",
    "\n",
    "print(\"Нестационарный ряд:\")\n",
    "ma_sales_model = fit_ma_model(sales_df['Count'], q=3, title=\"MA модель для продаж\")"
   ]
  },
  {
   "cell_type": "code",
   "execution_count": null,
   "id": "8810c3db-9b79-4a9c-a0dd-7512d7534a41",
   "metadata": {},
   "outputs": [],
   "source": [
    "# Выводы\n",
    "print(\"🔍 Выводы:\")\n",
    "print(\"\"\"\n",
    "1. Ряд рождаемости — стационарен (p-value < 0.05), что делает его пригодным для модели MA без дифференцирования.\n",
    "2. Ряд продаж — нестационарен (p-value > 0.05), но всё ещё можно приближать MA моделью, хотя это не оптимально.\n",
    "3. MA модель лучше работает для стационарного ряда, ошибки на ряде рождаемости ниже.\n",
    "4. MA модель использует только шум (ошибки), и плохо захватывает тренд, который присутствует в ряде продаж.\n",
    "5. Для нестационарных рядов лучше использовать ARIMA с компонентом дифференцирования (d > 0).\n",
    "\"\"\")"
   ]
  }
 ],
 "metadata": {
  "kernelspec": {
   "display_name": "Python 3 (ipykernel)",
   "language": "python",
   "name": "python3"
  },
  "language_info": {
   "codemirror_mode": {
    "name": "ipython",
    "version": 3
   },
   "file_extension": ".py",
   "mimetype": "text/x-python",
   "name": "python",
   "nbconvert_exporter": "python",
   "pygments_lexer": "ipython3",
   "version": "3.10.16"
  }
 },
 "nbformat": 4,
 "nbformat_minor": 5
}
