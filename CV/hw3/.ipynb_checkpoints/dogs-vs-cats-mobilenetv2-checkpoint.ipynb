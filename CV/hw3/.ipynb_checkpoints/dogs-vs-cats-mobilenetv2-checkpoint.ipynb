{
 "cells": [
  {
   "cell_type": "markdown",
   "id": "a8f8de87",
   "metadata": {},
   "source": [
    "# Dogs vs Cats Classification\n",
    "Обучение модели классификации изображений (2 класса: кошки и собаки) на базе MobileNetV2. Ноутбук подготовлен для выполнения задания и загрузки решения на Kaggle."
   ]
  },
  {
   "cell_type": "markdown",
   "id": "00449896",
   "metadata": {},
   "source": [
    "## Импорт библиотек"
   ]
  },
  {
   "cell_type": "code",
   "execution_count": null,
   "id": "536ae0c6",
   "metadata": {},
   "outputs": [],
   "source": [
    "\n",
    "import os\n",
    "import numpy as np\n",
    "import pandas as pd\n",
    "import tensorflow as tf\n",
    "from tensorflow import keras\n",
    "from tensorflow.keras.preprocessing.image import ImageDataGenerator\n",
    "from tensorflow.keras.applications import MobileNetV2\n",
    "from tensorflow.keras.layers import Dense, GlobalAveragePooling2D, Dropout\n",
    "from tensorflow.keras.models import Model\n",
    "from tensorflow.keras.optimizers import Adam\n",
    "from tensorflow.keras.callbacks import EarlyStopping, ModelCheckpoint\n"
   ]
  },
  {
   "cell_type": "markdown",
   "id": "de8cf749",
   "metadata": {},
   "source": [
    "## Пути к данным\n",
    "На Kaggle данные можно скачать так:\n",
    "```bash\n",
    "!kaggle competitions download -c dogs-vs-cats\n",
    "```\n",
    "Здесь предполагается, что они уже распакованы в папку `train/` и `test/`."
   ]
  },
  {
   "cell_type": "code",
   "execution_count": null,
   "id": "0e5558d1",
   "metadata": {},
   "outputs": [],
   "source": [
    "\n",
    "train_dir = '/kaggle/input/dogs-vs-cats/train/train'\n",
    "test_dir = '/kaggle/input/dogs-vs-cats/test1/test1'\n"
   ]
  },
  {
   "cell_type": "markdown",
   "id": "a8c267f5",
   "metadata": {},
   "source": [
    "## Генераторы данных с аугментацией"
   ]
  },
  {
   "cell_type": "code",
   "execution_count": null,
   "id": "9a0e64ea",
   "metadata": {},
   "outputs": [],
   "source": [
    "\n",
    "img_size = 224\n",
    "batch_size = 32\n",
    "\n",
    "train_datagen = ImageDataGenerator(\n",
    "    rescale=1./255,\n",
    "    validation_split=0.2,\n",
    "    rotation_range=20,\n",
    "    width_shift_range=0.2,\n",
    "    height_shift_range=0.2,\n",
    "    shear_range=0.2,\n",
    "    zoom_range=0.2,\n",
    "    horizontal_flip=True,\n",
    "    fill_mode='nearest'\n",
    ")\n",
    "\n",
    "train_generator = train_datagen.flow_from_directory(\n",
    "    train_dir,\n",
    "    target_size=(img_size, img_size),\n",
    "    batch_size=batch_size,\n",
    "    class_mode='binary',\n",
    "    subset='training'\n",
    ")\n",
    "\n",
    "val_generator = train_datagen.flow_from_directory(\n",
    "    train_dir,\n",
    "    target_size=(img_size, img_size),\n",
    "    batch_size=batch_size,\n",
    "    class_mode='binary',\n",
    "    subset='validation'\n",
    ")\n",
    "\n",
    "test_datagen = ImageDataGenerator(rescale=1./255)\n",
    "\n",
    "test_generator = test_datagen.flow_from_directory(\n",
    "    directory=os.path.dirname(test_dir),\n",
    "    classes=[os.path.basename(test_dir)],\n",
    "    target_size=(img_size, img_size),\n",
    "    batch_size=1,\n",
    "    class_mode=None,\n",
    "    shuffle=False\n",
    ")\n"
   ]
  },
  {
   "cell_type": "markdown",
   "id": "af8eaebc",
   "metadata": {},
   "source": [
    "## Построение модели MobileNetV2"
   ]
  },
  {
   "cell_type": "code",
   "execution_count": null,
   "id": "073f08c3",
   "metadata": {},
   "outputs": [],
   "source": [
    "\n",
    "base_model = MobileNetV2(weights='imagenet', include_top=False, input_shape=(img_size, img_size, 3))\n",
    "\n",
    "x = base_model.output\n",
    "x = GlobalAveragePooling2D()(x)\n",
    "x = Dropout(0.3)(x)\n",
    "predictions = Dense(1, activation='sigmoid')(x)\n",
    "\n",
    "model = Model(inputs=base_model.input, outputs=predictions)\n",
    "\n",
    "for layer in base_model.layers:\n",
    "    layer.trainable = False\n",
    "\n",
    "model.compile(optimizer=Adam(learning_rate=1e-4), loss='binary_crossentropy', metrics=['accuracy'])\n",
    "model.summary()\n"
   ]
  },
  {
   "cell_type": "markdown",
   "id": "2fc74b26",
   "metadata": {},
   "source": [
    "## Обучение модели"
   ]
  },
  {
   "cell_type": "code",
   "execution_count": null,
   "id": "88c6887b",
   "metadata": {},
   "outputs": [],
   "source": [
    "\n",
    "es = EarlyStopping(monitor='val_loss', patience=3, restore_best_weights=True)\n",
    "checkpoint = ModelCheckpoint('best_model.h5', monitor='val_loss', save_best_only=True)\n",
    "\n",
    "history = model.fit(\n",
    "    train_generator,\n",
    "    validation_data=val_generator,\n",
    "    epochs=10,\n",
    "    callbacks=[es, checkpoint]\n",
    ")\n"
   ]
  },
  {
   "cell_type": "markdown",
   "id": "9c05d42e",
   "metadata": {},
   "source": [
    "## Fine-tuning (размораживаем часть слоёв MobileNetV2)"
   ]
  },
  {
   "cell_type": "code",
   "execution_count": null,
   "id": "d87637c8",
   "metadata": {},
   "outputs": [],
   "source": [
    "\n",
    "for layer in base_model.layers[-40:]:\n",
    "    layer.trainable = True\n",
    "\n",
    "model.compile(optimizer=Adam(learning_rate=1e-5), loss='binary_crossentropy', metrics=['accuracy'])\n",
    "\n",
    "history_finetune = model.fit(\n",
    "    train_generator,\n",
    "    validation_data=val_generator,\n",
    "    epochs=5,\n",
    "    callbacks=[es, checkpoint]\n",
    ")\n"
   ]
  },
  {
   "cell_type": "markdown",
   "id": "5dd66e02",
   "metadata": {},
   "source": [
    "## Генерация сабмита для Kaggle"
   ]
  },
  {
   "cell_type": "code",
   "execution_count": null,
   "id": "59c2ba64",
   "metadata": {},
   "outputs": [],
   "source": [
    "\n",
    "model.load_weights('best_model.h5')\n",
    "\n",
    "preds = model.predict(test_generator, verbose=1)\n",
    "submission = pd.DataFrame({\n",
    "    'id': [os.path.splitext(os.path.basename(fname))[0] for fname in test_generator.filenames],\n",
    "    'label': preds.ravel()\n",
    "})\n",
    "\n",
    "submission.to_csv('submission.csv', index=False)\n",
    "submission.head()\n"
   ]
  }
 ],
 "metadata": {},
 "nbformat": 4,
 "nbformat_minor": 5
}
