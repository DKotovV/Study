{
 "cells": [
  {
   "cell_type": "code",
   "execution_count": 7,
   "id": "056939cf-a677-42dc-b515-d3c9b801f327",
   "metadata": {
    "tags": []
   },
   "outputs": [],
   "source": [
    "import numpy as np"
   ]
  },
  {
   "cell_type": "markdown",
   "id": "a080a4d6-0f8a-4b14-b9e6-a2d448502cbc",
   "metadata": {},
   "source": [
    "**Задание 1**"
   ]
  },
  {
   "cell_type": "markdown",
   "id": "05905d7e-d414-4875-aa9c-ebf7070433c6",
   "metadata": {},
   "source": [
    "В магазин привезли устройства с 3-х разных предприятий.\n",
    "\n",
    "Соотношение устройств следующее: 20% - продукция первого предприятия, 30% - продукция второго предприятия, 50% - продукция третьего предприятия; далее, 10% продукции первого предприятия высшего сорта, на втором предприятии - 5% и на третьем - 20% продукции высшего сорта.\n",
    "\n",
    "Найти вероятность того, что случайно купленная новая продукция окажется высшего сорта."
   ]
  },
  {
   "cell_type": "code",
   "execution_count": 5,
   "id": "87eaf350-6aad-4d6d-8480-a842e3431607",
   "metadata": {
    "tags": []
   },
   "outputs": [],
   "source": [
    "P1 = 0.20\n",
    "P2 = 0.30\n",
    "P3 = 0.50\n",
    "\n",
    "P_high1 = 0.10\n",
    "P_high2 = 0.05\n",
    "P_high3 = 0.20"
   ]
  },
  {
   "cell_type": "code",
   "execution_count": 6,
   "id": "ff6ea39b-5eca-4923-bc05-c91d96784606",
   "metadata": {
    "tags": []
   },
   "outputs": [
    {
     "name": "stdout",
     "output_type": "stream",
     "text": [
      "Вероятность того, что случайно купленная продукция окажется высшего сорта: 0.14\n"
     ]
    }
   ],
   "source": [
    "result = (P_high1 * P1) + (P_high2 * P2) + (P_high3 * P3)\n",
    "\n",
    "print(f\"Вероятность того, что случайно купленная продукция окажется высшего сорта: {result:.2f}\")"
   ]
  },
  {
   "cell_type": "markdown",
   "id": "95917de3-1011-435e-a560-0c613f56c953",
   "metadata": {},
   "source": [
    "**Задание 2**"
   ]
  },
  {
   "cell_type": "markdown",
   "id": "137638e9-7ad3-4958-8f58-bca328435357",
   "metadata": {},
   "source": [
    "Пусть брошены 3 уравновешенные монеты.\n",
    "\n",
    "Рассмотрим 3 события:\n",
    "\n",
    "A1 - монеты 1 и 2 упали одной и той же стороной;\n",
    "\n",
    "A2 - монеты 2 и 3 упали одной и той же стороной;\n",
    "\n",
    "A3 - монеты 1 и 3 упали одной и той же стороной.\n",
    "\n",
    "Покажите, почему эти 3 события (A1, A2, A3) являются попарно независимыми, но не являются независимыми в совокупности."
   ]
  },
  {
   "cell_type": "code",
   "execution_count": 13,
   "id": "c252420a-07d5-418c-b781-3c8ab371244e",
   "metadata": {
    "tags": []
   },
   "outputs": [],
   "source": [
    "outcomes = np.array(['HHH', 'HHT', 'HTH', 'HTT', 'THH', 'THT', 'TTH', 'TTT'])"
   ]
  },
  {
   "cell_type": "code",
   "execution_count": 14,
   "id": "91bb5a59-43f2-46f2-b58f-ecf7ff5d08fb",
   "metadata": {
    "tags": []
   },
   "outputs": [],
   "source": [
    "A1 = np.isin(outcomes, ['HHH', 'HHT', 'THH', 'TTH'])\n",
    "A2 = np.isin(outcomes, ['HHH', 'HHT', 'HTH', 'HTT'])\n",
    "A3 = np.isin(outcomes, ['HHH', 'HTH', 'THH', 'TTT'])"
   ]
  },
  {
   "cell_type": "code",
   "execution_count": 15,
   "id": "c8ac6850-4458-4c4c-8124-6df0730ac9c3",
   "metadata": {
    "tags": []
   },
   "outputs": [],
   "source": [
    "P_A1 = np.mean(A1)\n",
    "P_A2 = np.mean(A2)\n",
    "P_A3 = np.mean(A3)"
   ]
  },
  {
   "cell_type": "code",
   "execution_count": 16,
   "id": "2408a5e9-db42-437e-884d-cd0d6a62777e",
   "metadata": {
    "tags": []
   },
   "outputs": [],
   "source": [
    "P_A1_A2 = np.mean(A1 & A2)\n",
    "P_A1_A3 = np.mean(A1 & A3)\n",
    "P_A2_A3 = np.mean(A2 & A3)\n",
    "P_A1_A2_A3 = np.mean(A1 & A2 & A3)"
   ]
  },
  {
   "cell_type": "code",
   "execution_count": 17,
   "id": "3ca0bc17-7462-46a0-8048-5637a77ad9db",
   "metadata": {
    "tags": []
   },
   "outputs": [],
   "source": [
    "# Проверка попарной независимости\n",
    "independent_pairwise = (np.isclose(P_A1_A2, P_A1 * P_A2) and\n",
    "                        np.isclose(P_A1_A3, P_A1 * P_A3) and\n",
    "                        np.isclose(P_A2_A3, P_A2 * P_A3))"
   ]
  },
  {
   "cell_type": "code",
   "execution_count": 18,
   "id": "082f9983-1e1d-406c-bcd5-5e012f822de7",
   "metadata": {
    "tags": []
   },
   "outputs": [
    {
     "name": "stdout",
     "output_type": "stream",
     "text": [
      "Попарная независимость: True\n",
      "Независимость в совокупности: False\n"
     ]
    }
   ],
   "source": [
    "# Проверка независимости в совокупности\n",
    "independent_joint = np.isclose(P_A1_A2_A3, P_A1 * P_A2 * P_A3)\n",
    "\n",
    "print(f\"Попарная независимость: {independent_pairwise}\")\n",
    "print(f\"Независимость в совокупности: {not independent_joint}\")"
   ]
  }
 ],
 "metadata": {
  "kernelspec": {
   "display_name": "Python 3 (ipykernel)",
   "language": "python",
   "name": "python3"
  },
  "language_info": {
   "codemirror_mode": {
    "name": "ipython",
    "version": 3
   },
   "file_extension": ".py",
   "mimetype": "text/x-python",
   "name": "python",
   "nbconvert_exporter": "python",
   "pygments_lexer": "ipython3",
   "version": "3.11.5"
  }
 },
 "nbformat": 4,
 "nbformat_minor": 5
}
